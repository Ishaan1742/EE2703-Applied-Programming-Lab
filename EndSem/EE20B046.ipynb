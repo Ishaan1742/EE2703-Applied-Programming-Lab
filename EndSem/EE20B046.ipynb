{
 "cells": [
  {
   "cell_type": "code",
   "execution_count": 1,
   "metadata": {},
   "outputs": [
    {
     "data": {
      "text/plain": [
       "'\\n        EE2703 Applied Programming Lab - 2022\\n        End Semester Examination\\n        Done by: Ishaan Agarwal\\n        Roll Number: EE20B046\\n        Date: 12th May, 2022\\n'"
      ]
     },
     "execution_count": 1,
     "metadata": {},
     "output_type": "execute_result"
    }
   ],
   "source": [
    "\"\"\"\n",
    "        EE2703 Applied Programming Lab - 2022\n",
    "        End Semester Examination\n",
    "        Done by: Ishaan Agarwal\n",
    "        Roll Number: EE20B046\n",
    "        Date: 12th May, 2022\n",
    "\"\"\""
   ]
  },
  {
   "cell_type": "code",
   "execution_count": 2,
   "metadata": {},
   "outputs": [],
   "source": [
    "import numpy as np\n",
    "import matplotlib.pyplot as plt\n"
   ]
  },
  {
   "cell_type": "code",
   "execution_count": 3,
   "metadata": {},
   "outputs": [],
   "source": [
    "#defining the constants\n",
    "\n",
    "#independent parameters\n",
    "l = 0.5 #quarter wavelength\n",
    "c = 2.9979e8 #speed of light\n",
    "mu0 = 4*np.pi*1e-7 #permeability of free space\n",
    "N = 4 #Number of sections in each half section of the antenna\n",
    "Im = 1 #current injected into the antenna\n",
    "a = 0.01 #radius of the wire\n",
    "\n",
    "#dependent parameters\n",
    "lamda = l*4 #wavelength \n",
    "f = c/lamda #frequency\n",
    "k = 2*np.pi/lamda #wave number\n",
    "dz = l/N #spacing of the elements\n",
    "\n"
   ]
  },
  {
   "cell_type": "code",
   "execution_count": 4,
   "metadata": {},
   "outputs": [],
   "source": [
    "#Question 1\n",
    "z = np.zeros(2*N+1)\n",
    "z = np.linspace(-l, l, 2 * N + 1) #creating the array of z and dropping certain values to obtain the array of u\n",
    "#drop first and last element and middle element of u (known values)\n",
    "u = np.delete(z, [0, N, -1])\n",
    "\n",
    "#constructing current vectors (theoretical)\n",
    "I = Im * np.sin((2 * np.pi / lamda) * (l - abs(z)))  # current vector\n",
    "I[N] = Im #current injected into the middle element\n",
    "I[0] = 0 #boundary condition\n",
    "I[-1] = 0 #boundary condition\n",
    "#form J by deleting first, last and middle element of I\n",
    "J = np.delete(I, [0, N, -1])\n",
    "\n",
    "\n"
   ]
  },
  {
   "cell_type": "code",
   "execution_count": 5,
   "metadata": {},
   "outputs": [],
   "source": [
    "#Question 2\n",
    "#creating M matrix which is 1/(2*pi*a) * Identity matrix (dimension = 2*N-2)\n",
    "def compute_M(N, a):\n",
    "    M = np.identity(2*N-2)*(1/(2*np.pi*a))\n",
    "    return M\n",
    "M = compute_M(N, a)\n"
   ]
  },
  {
   "cell_type": "code",
   "execution_count": 6,
   "metadata": {},
   "outputs": [],
   "source": [
    "#Question 3\n",
    "#computing Rz and Ru\n",
    "#Rz computes distances including distances to known currents whereas Ru computes distances for only unknown currents\n",
    "def compute_Rz(z, z_dash):\n",
    "    return np.sqrt((z-z_dash)**2 + a**2)\n",
    "def compute_Ru(u, u_dash):\n",
    "    return np.sqrt((u-u_dash)**2 + a**2)\n",
    "\n",
    "Rz = compute_Rz(u, z.reshape(-1,1))\n",
    "Ru = compute_Ru(u, u.reshape(-1,1))"
   ]
  },
  {
   "cell_type": "code",
   "execution_count": 7,
   "metadata": {},
   "outputs": [],
   "source": [
    "#computing P and Pb\n",
    "def compute_P(Ru):\n",
    "    return (mu0/(4*np.pi)) * np.exp(-1j*k*Ru) * (1/Ru) * dz\n",
    "def compute_Pb(RiN):\n",
    "    return (mu0/(4*np.pi)) * np.exp(-1j*k*RiN) * (1/RiN) * dz\n",
    "\n",
    "P = compute_P(Ru)\n",
    "Pb = compute_Pb(Rz[N,:])\n"
   ]
  },
  {
   "cell_type": "code",
   "execution_count": 8,
   "metadata": {},
   "outputs": [],
   "source": [
    "#Question 4\n",
    "#computing Qij and Qb\n",
    "def compute_Qij(Ru, P):\n",
    "    return -P * (a / mu0) * (complex(0, -k) / Ru - 1 / Ru**2)\n",
    "def compute_QB(Pb, RiN):\n",
    "    return -Pb * a / mu0 * ((-1j * k) / RiN - 1 / (RiN**2))\n",
    "\n",
    "Qij = compute_Qij(Ru, P)\n",
    "Qb = compute_QB(Pb, Rz[N,:])\n",
    "Qb = Qb.reshape(-1,1)"
   ]
  },
  {
   "cell_type": "code",
   "execution_count": 9,
   "metadata": {},
   "outputs": [],
   "source": [
    "#Question 5\n",
    "#finding J_calculated and I_calculated\n",
    "J_calculated = (np.linalg.inv(M-Qij).dot(Qb*Im)).T[0] #obtained was an array of array, thus taking the first element of the array\n",
    "I_calculated = np.concatenate(([0], J_calculated[:N-1], [Im], J_calculated[N-1:], [0])) \n",
    "\n",
    "\n"
   ]
  },
  {
   "cell_type": "code",
   "execution_count": 10,
   "metadata": {},
   "outputs": [
    {
     "name": "stderr",
     "output_type": "stream",
     "text": [
      "/Users/ishaan/Desktop/EE2703 - Applied Programming Lab/EndSem/venv/lib/python3.8/site-packages/matplotlib/cbook/__init__.py:1298: ComplexWarning: Casting complex values to real discards the imaginary part\n",
      "  return np.asarray(x, float)\n"
     ]
    },
    {
     "data": {
      "image/png": "[encoded data removed]",
      "text/plain": [
       "<Figure size 432x288 with 1 Axes>"
      ]
     },
     "metadata": {
      "needs_background": "light"
     },
     "output_type": "display_data"
    }
   ],
   "source": [
    "#plotting I and I_calculated on the same graph\n",
    "plt.plot(z, I, label = 'I(assuming sine wave)')\n",
    "plt.plot(z, I_calculated, label = 'I_calculated')\n",
    "plt.title('Calculated current vs Assumed current Plot')\n",
    "plt.grid()\n",
    "plt.xlabel('z')\n",
    "plt.ylabel('I')\n",
    "plt.legend(loc = 'upper right')\n",
    "plt.show()\n"
   ]
  },
  {
   "cell_type": "code",
   "execution_count": 11,
   "metadata": {},
   "outputs": [
    {
     "name": "stdout",
     "output_type": "stream",
     "text": [
      "\n",
      "\n",
      "N = 4\n",
      "\n",
      "\n",
      "z =  [-0.5  -0.38 -0.25 -0.12  0.    0.12  0.25  0.38  0.5 ]\n",
      "\n",
      "\n",
      "u =  [-0.38 -0.25 -0.12  0.12  0.25  0.38]\n",
      "\n",
      "\n",
      "M =  [[15.92  0.    0.    0.    0.    0.  ]\n",
      " [ 0.   15.92  0.    0.    0.    0.  ]\n",
      " [ 0.    0.   15.92  0.    0.    0.  ]\n",
      " [ 0.    0.    0.   15.92  0.    0.  ]\n",
      " [ 0.    0.    0.    0.   15.92  0.  ]\n",
      " [ 0.    0.    0.    0.    0.   15.92]]\n",
      "\n",
      "\n",
      "Rz =  [[0.13 0.25 0.38 0.63 0.75 0.88]\n",
      " [0.01 0.13 0.25 0.5  0.63 0.75]\n",
      " [0.13 0.01 0.13 0.38 0.5  0.63]\n",
      " [0.25 0.13 0.01 0.25 0.38 0.5 ]\n",
      " [0.38 0.25 0.13 0.13 0.25 0.38]\n",
      " [0.5  0.38 0.25 0.01 0.13 0.25]\n",
      " [0.63 0.5  0.38 0.13 0.01 0.13]\n",
      " [0.75 0.63 0.5  0.25 0.13 0.01]\n",
      " [0.88 0.75 0.63 0.38 0.25 0.13]]\n",
      "\n",
      "\n",
      "Ru =  [[0.01 0.13 0.25 0.5  0.63 0.75]\n",
      " [0.13 0.01 0.13 0.38 0.5  0.63]\n",
      " [0.25 0.13 0.01 0.25 0.38 0.5 ]\n",
      " [0.5  0.38 0.25 0.01 0.13 0.25]\n",
      " [0.63 0.5  0.38 0.13 0.01 0.13]\n",
      " [0.75 0.63 0.5  0.25 0.13 0.01]]\n",
      "\n",
      "\n",
      "RiN =  [0.38 0.25 0.13 0.13 0.25 0.38]\n",
      "\n",
      "\n",
      "P =  [[124.94-3.93j   9.2 -3.83j   3.53-3.53j  -0.  -2.5j   -0.77-1.85j\n",
      "   -1.18-1.18j]\n",
      " [  9.2 -3.83j 124.94-3.93j   9.2 -3.83j   1.27-3.08j  -0.  -2.5j\n",
      "   -0.77-1.85j]\n",
      " [  3.53-3.53j   9.2 -3.83j 124.94-3.93j   3.53-3.53j   1.27-3.08j\n",
      "   -0.  -2.5j ]\n",
      " [ -0.  -2.5j    1.27-3.08j   3.53-3.53j 124.94-3.93j   9.2 -3.83j\n",
      "    3.53-3.53j]\n",
      " [ -0.77-1.85j  -0.  -2.5j    1.27-3.08j   9.2 -3.83j 124.94-3.93j\n",
      "    9.2 -3.83j]\n",
      " [ -1.18-1.18j  -0.77-1.85j  -0.  -2.5j    3.53-3.53j   9.2 -3.83j\n",
      "  124.94-3.93j]]\n",
      "\n",
      "\n",
      "Pb =  [1.27-3.08j 3.53-3.53j 9.2 -3.83j 9.2 -3.83j 3.53-3.53j 1.27-3.08j]\n",
      "\n",
      "\n",
      "Qij =  [[9.952e+01-0.j 5.000e-02-0.j 1.000e-02-0.j 0.000e+00-0.j 0.000e+00-0.j\n",
      "  0.000e+00-0.j]\n",
      " [5.000e-02-0.j 9.952e+01-0.j 5.000e-02-0.j 0.000e+00-0.j 0.000e+00-0.j\n",
      "  0.000e+00-0.j]\n",
      " [1.000e-02-0.j 5.000e-02-0.j 9.952e+01-0.j 1.000e-02-0.j 0.000e+00-0.j\n",
      "  0.000e+00-0.j]\n",
      " [0.000e+00-0.j 0.000e+00-0.j 1.000e-02-0.j 9.952e+01-0.j 5.000e-02-0.j\n",
      "  1.000e-02-0.j]\n",
      " [0.000e+00-0.j 0.000e+00-0.j 0.000e+00-0.j 5.000e-02-0.j 9.952e+01-0.j\n",
      "  5.000e-02-0.j]\n",
      " [0.000e+00-0.j 0.000e+00-0.j 0.000e+00-0.j 1.000e-02-0.j 5.000e-02-0.j\n",
      "  9.952e+01-0.j]]\n",
      "\n",
      "\n",
      "Qb =  [[0.  -0.j]\n",
      " [0.01-0.j]\n",
      " [0.05-0.j]\n",
      " [0.05-0.j]\n",
      " [0.01-0.j]\n",
      " [0.  -0.j]]\n",
      "\n",
      "\n",
      "J_calculated =  [-3.30e-05+1.1e-05j -9.50e-05+1.2e-05j -6.48e-04+1.2e-05j\n",
      " -6.48e-04+1.2e-05j -9.50e-05+1.2e-05j -3.30e-05+1.1e-05j]\n",
      "\n",
      "\n",
      "I_calculated =  [ 0.00e+00+0.0e+00j -3.30e-05+1.1e-05j -9.50e-05+1.2e-05j\n",
      " -6.48e-04+1.2e-05j  1.00e+00+0.0e+00j -6.48e-04+1.2e-05j\n",
      " -9.50e-05+1.2e-05j -3.30e-05+1.1e-05j  0.00e+00+0.0e+00j]\n",
      "\n",
      "\n"
     ]
    }
   ],
   "source": [
    "#printing all values for N=4\n",
    "print('\\n')\n",
    "print('N = 4')\n",
    "print('\\n')\n",
    "print('z = ', z.round(2))\n",
    "print('\\n')\n",
    "print('u = ', u.round(2))\n",
    "print('\\n')\n",
    "print('M = ', M.round(2))\n",
    "print('\\n')\n",
    "print('Rz = ', Rz.round(2))\n",
    "print('\\n')\n",
    "print('Ru = ', Ru.round(2))\n",
    "print('\\n')\n",
    "print('RiN = ', Rz[N,:].round(2))\n",
    "print('\\n')\n",
    "print('P = ', (P*1e8).round(2))\n",
    "print('\\n')\n",
    "print('Pb = ', (Pb*1e8).round(2))\n",
    "print('\\n')\n",
    "print('Qij = ', Qij.round(2))\n",
    "print('\\n')\n",
    "print('Qb = ', Qb.round(2))\n",
    "print('\\n')\n",
    "print('J_calculated = ', J_calculated.round(6))\n",
    "print('\\n')\n",
    "print('I_calculated = ', I_calculated.round(6))\n",
    "print('\\n')\n",
    "\n"
   ]
  }
 ],
 "metadata": {
  "interpreter": {
   "hash": "418030c43a554c0acb25032d5c4e3a641dfde8ba17f3243ca955b556f680c444"
  },
  "kernelspec": {
   "display_name": "Python 3.8.9 ('venv': venv)",
   "language": "python",
   "name": "python3"
  },
  "language_info": {
   "codemirror_mode": {
    "name": "ipython",
    "version": 3
   },
   "file_extension": ".py",
   "mimetype": "text/x-python",
   "name": "python",
   "nbconvert_exporter": "python",
   "pygments_lexer": "ipython3",
   "version": "3.8.9"
  },
  "orig_nbformat": 4
 },
 "nbformat": 4,
 "nbformat_minor": 2
}
