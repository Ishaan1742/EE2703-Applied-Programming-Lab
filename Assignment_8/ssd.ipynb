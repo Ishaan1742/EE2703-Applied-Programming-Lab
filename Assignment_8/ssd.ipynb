{
 "cells": [
  {
   "cell_type": "code",
   "execution_count": 28,
   "metadata": {},
   "outputs": [],
   "source": [
    "import numpy as np"
   ]
  },
  {
   "cell_type": "code",
   "execution_count": 39,
   "metadata": {},
   "outputs": [
    {
     "data": {
      "text/plain": [
       "3.154726735891004"
      ]
     },
     "execution_count": 39,
     "metadata": {},
     "output_type": "execute_result"
    }
   ],
   "source": [
    "Is = 1e-15\n",
    "bf = 100\n",
    "br = 0.5\n",
    "vbe = 0.75\n",
    "vce = 0.1\n",
    "vbc = vbe - vce\n",
    "vt = 0.026\n",
    "\n",
    "ic = Is * ( np.exp(vbe/vt) - np.exp(vbc/vt) ) - (Is/br) * ( np.exp(vbc/vt) - 1 )\n",
    "ic * 1000"
   ]
  },
  {
   "cell_type": "code",
   "execution_count": 42,
   "metadata": {},
   "outputs": [
    {
     "data": {
      "text/plain": [
       "539.7308770041603"
      ]
     },
     "execution_count": 42,
     "metadata": {},
     "output_type": "execute_result"
    }
   ],
   "source": [
    "Is = 1e-12\n",
    "Ib = 8e-3\n",
    "bf = 80\n",
    "br = 0.2\n",
    "vce = 0.2\n",
    "vt = 0.026\n",
    "\n",
    "vbe = vt*np.log(((Ib*bf*br/Is) + bf + br)/(br + bf*np.exp(-vce/vt)))\n",
    "\n",
    "vbc = vbe - vce\n",
    "\n",
    "ic = Is * ( np.exp(vbe/vt) - np.exp(vbc/vt) ) - (Is/br) * ( np.exp(vbc/vt) - 1 )\n",
    "ic * 1000\n"
   ]
  },
  {
   "cell_type": "code",
   "execution_count": 43,
   "metadata": {},
   "outputs": [
    {
     "data": {
      "text/plain": [
       "0.7935135796077439"
      ]
     },
     "execution_count": 43,
     "metadata": {},
     "output_type": "execute_result"
    }
   ],
   "source": [
    "vcesat = 0.2\n",
    "rb = 10e3\n",
    "rc = 1e3\n",
    "b = 60\n",
    "vcc = 5\n",
    "vf = 10\n",
    "vr = -10\n",
    "tn = 1\n",
    "\n",
    "ifb = vf/rb\n",
    "irb = -vr/rb\n",
    "icsat = (vcc - vcesat)/rc\n",
    "ton = -tn*np.log(1-icsat/(b*ifb))\n",
    "tsd = tn*np.log((irb + ifb)/(irb+icsat/b))\n",
    "tdis = tn * np.log(1+(icsat/(b*irb)))\n",
    "tdelay = tsd + tdis +ton\n",
    "tsd/tdelay\n"
   ]
  },
  {
   "cell_type": "code",
   "execution_count": null,
   "metadata": {},
   "outputs": [],
   "source": []
  }
 ],
 "metadata": {
  "interpreter": {
   "hash": "8f4854f7d93b53f2bc935fd7f96a6e266dea64c8c0c6c1fae58ac915a33afbad"
  },
  "kernelspec": {
   "display_name": "Python 3.8.9 ('venv': venv)",
   "language": "python",
   "name": "python3"
  },
  "language_info": {
   "codemirror_mode": {
    "name": "ipython",
    "version": 3
   },
   "file_extension": ".py",
   "mimetype": "text/x-python",
   "name": "python",
   "nbconvert_exporter": "python",
   "pygments_lexer": "ipython3",
   "version": "3.8.9"
  },
  "orig_nbformat": 4
 },
 "nbformat": 4,
 "nbformat_minor": 2
}
