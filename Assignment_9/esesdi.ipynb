{
 "cells": [
  {
   "cell_type": "markdown",
   "metadata": {},
   "source": [
    "# Study Materials"
   ]
  },
  {
   "cell_type": "markdown",
   "metadata": {},
   "source": [
    "##### init"
   ]
  },
  {
   "cell_type": "code",
   "execution_count": 1,
   "metadata": {},
   "outputs": [],
   "source": [
    "\"\"\"\n",
    "Notation:   Subscripts are denoted by prefixing with an underscore (e.g. _i in n_i)\n",
    "            Words are joined to form phrases with underscores (e.g. is_conductor)\n",
    "            Primes (apostrophe after a symbol) is denoted by suffixing an underscore (e.g. n_ is n')\n",
    "            Greek letters are spelled out with the first letter denoting the case (e.g. omega & Omega)\n",
    "\"\"\"\n",
    "%precision %e\n",
    "from math import *"
   ]
  },
  {
   "cell_type": "code",
   "execution_count": 2,
   "metadata": {},
   "outputs": [],
   "source": [
    "q = 1.6e-19  # C\n",
    "kT = 0.026  # eV\n",
    "k = 8.62e-5  # eV/K\n",
    "V_T_300 = 0.026  # V (at 300K, directly proportional to T)\n",
    "eps_0 = 8.85e-14  # F/cm\n",
    "h = 6.626e-34  # Js\n",
    "\n",
    "Si_E_g = 1.12  # eV\n",
    "Si_n_i = 1.5e10  # cm^-3\n",
    "Si_N_C = 2.8e19  # at 300K\n",
    "Si_N_V = 1.02e19  # at 300K\n",
    "Si_mu_n = 1350  # cm^2/Vs\n",
    "Si_mu_p = 450  # cm^2/Vs\n",
    "Si_eps = 11.9 * eps_0  # F/cm\n",
    "\n",
    "SiO2_eps = 0.35e-12 # F/cm"
   ]
  },
  {
   "cell_type": "markdown",
   "metadata": {},
   "source": [
    "## 1: Introduction to Semiconductors"
   ]
  },
  {
   "cell_type": "code",
   "execution_count": 3,
   "metadata": {},
   "outputs": [],
   "source": [
    "def is_conductor(rho): return rho < 1e-3  # ohm-cm\n",
    "def is_insulator(rho): return rho > 1e8  # ohm-cm\n",
    "\n",
    "Si_rho = 2.3e5  # ohm-cm\n",
    "\n",
    "def current_density(sigma, E): return sigma * E\n",
    "def sigma(q, n, v, E): return q * n * v / E\n",
    "def velocity(mu, E): return mu * E  # mu is the mobility"
   ]
  },
  {
   "cell_type": "markdown",
   "metadata": {},
   "source": [
    "## 2: Electron and Hole Densities"
   ]
  },
  {
   "cell_type": "code",
   "execution_count": 4,
   "metadata": {},
   "outputs": [],
   "source": [
    "\"\"\"N_C = 2 * (2 * pi * kT * m_e / h**2) ** 1.5  =>  N_C proportional to T**1.5, similar for N_V\"\"\"\n",
    "def n_from_N_C(E_C, E_F, N_C=Si_N_C): return N_C * exp(-(E_C - E_F) / kT)\n",
    "def p_from_N_V(E_V, E_F, N_V=Si_N_V): return N_V * exp(-(E_F - E_V) / kT)\n",
    "\n",
    "\"\"\"E_g = E_C - E_V\"\"\"\n",
    "def n_i(N_C, N_V, E_g=Si_E_g): return sqrt(N_C * N_V) * exp(-E_g / (2 * kT))\n",
    "\n",
    "def n_i_at_T(T_2, n_i_1=Si_n_i, T_1=300, E_g=Si_E_g):\n",
    "    \"\"\"n_i is proportional to T**1.5 * exp(-E_g / (2 * kT))\"\"\"\n",
    "    return n_i_1 * (T_2 / T_1)**1.5 * exp(-(E_g / (2 * k)) * (1 / T_2 - 1 / T_1))"
   ]
  },
  {
   "cell_type": "code",
   "execution_count": 5,
   "metadata": {},
   "outputs": [],
   "source": [
    "def n_from_n_i(E_F, E_i, n_i=Si_n_i): return n_i * exp((E_F - E_i) / kT)\n",
    "def p_from_n_i(E_F, E_i, n_i=Si_n_i): return n_i * exp((E_i - E_F) / kT)\n",
    "def E_F_from_n(E_i, n, n_i=Si_n_i): return E_i + kT * log(n / n_i)\n",
    "def E_F_from_p(E_i, p, n_i=Si_n_i): return E_i - kT * log(p / n_i)"
   ]
  },
  {
   "cell_type": "code",
   "execution_count": 6,
   "metadata": {},
   "outputs": [],
   "source": [
    "\"\"\"n - p = N_D - N_A, n * p = n_i**2  =>  n**2 - (N_D - N_A) * n - n_i**2 = 0\"\"\"\n",
    "def n_from_quadratic(N_D, N_A, n_i=Si_n_i): return ((N_D - N_A) + sqrt((N_D - N_A)**2 + 4 * n_i**2)) / 2\n",
    "def p_from_quadratic(N_A, N_D, n_i=Si_n_i): return ((N_A - N_D) + sqrt((N_A - N_D)**2 + 4 * n_i**2)) / 2"
   ]
  },
  {
   "cell_type": "code",
   "execution_count": 7,
   "metadata": {},
   "outputs": [],
   "source": [
    "def work_function(E_vac, E_F): return E_vac - E_F\n",
    "def electron_affinity(E_vac, E_C): return E_vac - E_C"
   ]
  },
  {
   "cell_type": "markdown",
   "metadata": {},
   "source": [
    "## 3: Generation & Recombination, Scattering, Mobility"
   ]
  },
  {
   "cell_type": "code",
   "execution_count": 8,
   "metadata": {},
   "outputs": [],
   "source": [
    "\"\"\"Quasifermi (IMREF):  n = n_i * exp((E_Fn - E_i) / kT), p = n_i * exp((E_i - E_Fp) / kT)\"\"\"\n",
    "def np(E_Fn, E_Fp, n_i=Si_n_i): return n_i**2 * exp((E_Fn - E_Fp) / kT)"
   ]
  },
  {
   "cell_type": "code",
   "execution_count": 9,
   "metadata": {},
   "outputs": [],
   "source": [
    "\"\"\"G = G_L + G_th, G = R at thermal equilibrium  =>  G_L = R - G_th = U (excess recombination rate)\"\"\"\n",
    "def U(p_n, p_no, tau_p): return (p_n - p_no) / tau_p\n",
    "\n",
    "\"\"\"Switched off:  dp_n/dt = -U = -G_L, p_n = p_no + tau_p * G_L at t=0\"\"\"\n",
    "def p_n(p_no, tau_p, G_L, t): return p_no + tau_p * G_L * exp(-t / tau_p)\n",
    "\n",
    "def U_S(p_n, p_no, S): return (p_n - p_no) * S  # S is the surface recombination velocity"
   ]
  },
  {
   "cell_type": "code",
   "execution_count": 10,
   "metadata": {},
   "outputs": [],
   "source": [
    "\"\"\"Lattice scattering:  mu_l is proportional to T**-1.5\"\"\"\n",
    "\"\"\"Impurity scattering:  mu_i is proportional to T**1.5 / N, N is doping concentration\"\"\"\n",
    "\n",
    "def v_d_n(mu_n, E): return -mu_n * E  # mu_n is the mobility of electrons\n",
    "def v_d_p(mu_p, E): return mu_p * E  # mu_p is the mobility of holes"
   ]
  },
  {
   "cell_type": "markdown",
   "metadata": {},
   "source": [
    "## 4: Charge Transport in Semiconductors"
   ]
  },
  {
   "cell_type": "code",
   "execution_count": 11,
   "metadata": {},
   "outputs": [],
   "source": [
    "def J_ndr(n, mu_n, E): return -q * n * v_d_n(mu_n, E)\n",
    "def J_pdr(p, mu_p, E): return q * p * v_d_p(mu_p, E)\n",
    "def J_dr(n, p, mu_n, mu_p, E): return J_ndr(n, mu_n, E) + J_pdr(p, mu_p, E)\n",
    "\n",
    "def sigma_from_mu(n, p, mu_n, mu_p): return q * n * mu_n + q * p * mu_p\n",
    "\n",
    "def p_max_resistivity(mu_n, mu_p, n_i=Si_n_i): return n_i * sqrt(mu_n / mu_p)"
   ]
  },
  {
   "cell_type": "code",
   "execution_count": 12,
   "metadata": {},
   "outputs": [],
   "source": [
    "def p_from_Hall(I, B_z, V_H, d): return I * B_z / (q * V_H * d)\n",
    "def mu_p_from_Hall(L, V_H, W, V_CD, B_z): return L * V_H / (W * V_CD * B_z)"
   ]
  },
  {
   "cell_type": "code",
   "execution_count": 13,
   "metadata": {},
   "outputs": [],
   "source": [
    "def V_T_at_T(T): return V_T_300 * (T / 300)\n",
    "\n",
    "\"\"\"D is diffusion coefficient = l^2/(2*tau_c)\"\"\"\n",
    "def J_ndiff(D_n, dn_dx): return q * D_n * dn_dx  # maybe dn_dx = n_po / L_n\n",
    "def J_pdiff(D_p, dp_dx): return -q * D_p * dp_dx  # maybe dp_dx = p_no / L_p\n",
    "\n",
    "def J_ndiff_at_x(G_on, x, L_n): return q * G_on * exp(-x / L_n)\n",
    "def J_pdiff_at_x(G_op, x, L_p): return q * G_op * exp(-x / L_p)\n",
    "\n",
    "def J_n(n, mu_n, E, D_n, dn_dx) : return J_ndr(n, mu_n, E) + J_ndiff(D_n, dn_dx)\n",
    "def J_p(p, mu_p, E, D_p, dp_dx) : return J_pdr(p, mu_p, E) + J_pdiff(D_p, dp_dx)\n",
    "\n",
    "def dn_dx_from_E(n, E, V_T=V_T_300): return -n * E / V_T\n",
    "def dp_dx_from_E(p, E, V_T=V_T_300): return -p * E / V_T #???????\n",
    "\n",
    "def D(mu, V_T=V_T_300): return mu * V_T"
   ]
  },
  {
   "cell_type": "code",
   "execution_count": 14,
   "metadata": {},
   "outputs": [],
   "source": [
    "\"\"\"Continuity equation\"\"\"\n",
    "def dn_dt(dJ_n_dx, G_n, R_n): return dJ_n_dx / q + G_n - R_n\n",
    "def dp_dt(dJ_p_dx, G_p, R_p): return -dJ_p_dx / q + G_p - R_p\n",
    "\n",
    "def dn_p_dt(D_n, d2n_p_dx2, del_n_p, tau_n): return D_n * d2n_p_dx2 - del_n_p / tau_n\n",
    "def dp_n_dt(D_p, d2p_n_dx2, del_p_n, tau_p): return D_p * d2p_n_dx2 - del_p_n / tau_p"
   ]
  },
  {
   "cell_type": "code",
   "execution_count": 15,
   "metadata": {},
   "outputs": [],
   "source": [
    "\"\"\"With extra EHP generation\"\"\"\n",
    "def dn_p_dt_with_generation(D_n, d2n_p_dx2, G_n, n_p, n_po, tau_n): return D_n * d2n_p_dx2 + G_n - (n_p - n_po) / tau_n\n",
    "def dp_n_dt_with_generation(D_p, d2p_n_dx2, G_p, p_n, p_no, tau_p): return D_p * d2p_n_dx2 + G_p - (p_n - p_no) / tau_p"
   ]
  },
  {
   "cell_type": "code",
   "execution_count": 16,
   "metadata": {},
   "outputs": [],
   "source": [
    "def L(D, tau): return sqrt(D * tau)  # L is the diffusion length\n",
    "\n",
    "def del_p_n(del_p_no, x, L_p): return del_p_no * exp(-x / L_p)\n",
    "def del_n_p(del_n_po, x, L_n): return del_n_po * exp(-x / L_n)\n",
    "\n",
    "def dp_dx_from_L(del_p_no, x, L_p): return -del_p_n(del_p_no, x, L_p) / L_p\n",
    "def dn_dx_from_L(del_n_po, x, L_n): return -del_n_p(del_n_po, x, L_n) / L_n"
   ]
  },
  {
   "cell_type": "markdown",
   "metadata": {},
   "source": [
    "## 5: PN Junctions"
   ]
  },
  {
   "cell_type": "code",
   "execution_count": 17,
   "metadata": {},
   "outputs": [],
   "source": [
    "def V_bi_from_n_i(N_A, N_D, n_i=Si_n_i, V_T=V_T_300): return V_T * log((N_A - N_D) / n_i**2)\n",
    "def V_bi_from_p(p_po, p_no, V_T=V_T_300): return V_T * log(p_po / p_no)\n",
    "def V_bi_from_n(n_no, n_po, V_T=V_T_300): return V_T * log(n_no / n_po)"
   ]
  },
  {
   "cell_type": "code",
   "execution_count": 18,
   "metadata": {},
   "outputs": [],
   "source": [
    "\"\"\"Q = A*q*N_A*x_p = A*q*N_D*x_n  =>  N_A*x_p = N_D*x_n\"\"\"\n",
    "def E_n(x, x_n, N_D, eps=Si_eps): return -q * N_D * (x_n - abs(x)) / eps\n",
    "def E_p(x, x_p, N_A, eps=Si_eps): return -q * N_A * (x_p - abs(x)) / eps\n",
    "\n",
    "def E_m_n(x_n, N_D, eps=Si_eps): return -q * N_D * x_n / eps\n",
    "def E_m_p(x_p, N_A, eps=Si_eps): return -q * N_A * x_p / eps"
   ]
  },
  {
   "cell_type": "code",
   "execution_count": 19,
   "metadata": {},
   "outputs": [],
   "source": [
    "\"\"\"W = x_n + x_p\"\"\"\n",
    "def V_bi(E_m, W, V_f=0): return abs(E_m) * W / 2 + V_f\n",
    "\n",
    "\"\"\"V_n/V_p = x_n/x_p = N_A/N_D\"\"\"\n",
    "\n",
    "def N_eff(N_A, N_D): return 1 / (1 / N_A + 1 / N_D)\n",
    "def E_m_abs(V_bi, W, V_f=0): return 2 * (V_bi - V_f) / W\n",
    "def W(V_bi, N_eff, V_f=0, eps=Si_eps):\n",
    "    \"Replace V_bi with psi_s for MOSFET\"\n",
    "    return sqrt(2 * eps * (V_bi - V_f) / (q * N_eff))\n",
    "\n",
    "def C_J(A, W, eps=Si_eps): return A * eps / W\n",
    "def C_J_squared(A, N_eff, V_bi, V_f=0, eps=Si_eps): return A**2 * q * eps * N_eff / (2 * (V_bi - V_f))"
   ]
  },
  {
   "cell_type": "code",
   "execution_count": 20,
   "metadata": {},
   "outputs": [],
   "source": [
    "def p_ne_from_V_bi(p_pe, V_bi, V_f=0, V_T=V_T_300): return p_pe * exp(-(V_bi - V_f) / V_T)\n",
    "def p_ne(p_no, V_f, V_T=V_T_300): return p_no * exp(V_f / V_T)\n",
    "def n_pe(n_po, V_f, V_T=V_T_300): return n_po * exp(V_f / V_T)\n",
    "\n",
    "def p_n(p_no, V, x, x_n, L_p, V_T=V_T_300): return p_no + p_no * (exp(V / V_T) - 1) * exp(-(x - x_n) / L_p)\n",
    "def n_p(n_po, V, x, x_p, L_n, V_T=V_T_300): return n_po + n_po * (exp(V / V_T) - 1) * exp((x + x_p) / L_n)"
   ]
  },
  {
   "cell_type": "code",
   "execution_count": 21,
   "metadata": {},
   "outputs": [],
   "source": [
    "\"\"\"Reverse saturation current\"\"\"\n",
    "\n",
    "# def I(I_o, V, V_T=V_T_300): return I_o * (exp(V / V_T) - 1)  # overridden in Study Material #6\n",
    "def I_o(A, D_p, p_no, L_p, D_n, n_po, L_n): return A * q * (D_p * p_no / L_p + D_n * n_po / L_n)\n",
    "def I_o_from_n_i(A, D_p, L_p, N_D, D_n, L_n, N_A, n_i=Si_n_i):\n",
    "    return A * q * n_i**2 * (D_p / (L_p * N_D) + D_n / (L_n * N_A))\n",
    "\n",
    "def I_o_approx(A, D_p, p_no, L_p): return A * q * D_p * p_no / L_p\n",
    "def I_o_from_n_i_approx(A, D_p, L_p, N_D, n_i=Si_n_i):\n",
    "    \"L_p can be replaced with W\"\n",
    "    return A * q * n_i**2 * D_p / (L_p * N_D)"
   ]
  },
  {
   "cell_type": "code",
   "execution_count": 22,
   "metadata": {},
   "outputs": [],
   "source": [
    "def R(A, p_no, L_p, tau_p, V, V_T=V_T_300): return (A * p_no * L_p / tau_p) * (exp(V / V_T) - 1)\n",
    "def I_p(A, p_no, L_p, tau_p, V, V_T=V_T_300): return q * R(A, p_no, L_p, tau_p, V, V_T)\n",
    "\n",
    "\"\"\"Ideality factor:  I = I_o * exp(V / (m * V_T))\"\"\"\n",
    "\n",
    "def I_rec(A, W, tau, V, V_T=V_T_300, n_i=Si_n_i): return (A * q * n_i * W / (2 * tau)) * exp(V / (2 * V_T))\n",
    "def I_rec_by_I(W, N_D, L_p, V, V_T=V_T_300, n_i=Si_n_i): return (W * N_D / (2 * L_p * n_i)) * exp(-V / (2 * V_T))"
   ]
  },
  {
   "cell_type": "code",
   "execution_count": 23,
   "metadata": {},
   "outputs": [],
   "source": [
    "def I_at_t(Q_p, tau_p, dQp_dt): return Q_p / tau_p + dQp_dt\n",
    "def Q_p(t, I, tau_p): return I * tau_p * exp(-t / tau_p)\n",
    "def V_from_p_ne(p_ne, p_no, V_T=V_T_300): V_T * log(p_ne / p_no + 1)\n",
    "def V_at_t(I, tau_p, A, L_p, t, p_no, V_T=V_T_300): V_T * log((I * tau_p / (A * q * L_p * p_no)) * exp(-t / tau_p) + 1)\n",
    "def Q_p_reverse_recovery(I_F, tau_p, t, t_1, I_R):\n",
    "    return I_F * tau_p * exp(-(t - t_1) / tau_p) + I_R * tau_p * (exp(-(t - t_1) / tau_p) - 1)"
   ]
  },
  {
   "cell_type": "code",
   "execution_count": 24,
   "metadata": {},
   "outputs": [],
   "source": [
    "\"\"\"Storage delay\"\"\"\n",
    "def t_sd_PN(tau_p, I_F, I_R): return tau_p * log(1 + I_F / I_R)\n",
    "\n",
    "\"\"\"Diffusion capacitance\"\"\"\n",
    "def C_diff_long(A, p_no, L_p, V, V_T=V_T_300): return A * q * p_no * L_p * exp(V / V_T) / V_T\n",
    "def C_diff_short(A, p_no, L_p, W_n, V, V_T=V_T_300): return A * q * p_no * (L_p**2 / W_n) * exp(V / V_T) / V_T\n",
    "\n",
    "\"\"\"Transit time\"\"\"\n",
    "def tau_tp(W_n, D_p): return W_n**2 / (2 * D_p)\n",
    "def tau_tn(W_p, D_n): return W_p**2 / (2 * D_n)"
   ]
  },
  {
   "cell_type": "code",
   "execution_count": 25,
   "metadata": {},
   "outputs": [],
   "source": [
    "\"\"\"Breakdown voltage\"\"\"\n",
    "def V_br(E_c, N_D, W=None, eps=Si_eps):\n",
    "    W_req = eps * E_c / (q * N_D)\n",
    "    if W is None or W >= W_req: return E_c * W_req / 2\n",
    "    else: return (E_c * W_req / 2) * (1 - ((W_req - W) / W_req)**2)"
   ]
  },
  {
   "cell_type": "code",
   "execution_count": 26,
   "metadata": {},
   "outputs": [],
   "source": [
    "def C_diff(I, tau_p, V_T=V_T_300): return I * tau_p / V_T"
   ]
  },
  {
   "cell_type": "markdown",
   "metadata": {},
   "source": [
    "## 6: Applications of PN Junctions"
   ]
  },
  {
   "cell_type": "code",
   "execution_count": 27,
   "metadata": {},
   "outputs": [],
   "source": [
    "def cutoff_wavelength(E_g): return 1.24 / E_g  # in micrometres\n",
    "\n",
    "def I(I_o, V, I_L=0, V_T=V_T_300): return I_o * (exp(V / V_T) - 1) - I_L\n",
    "\"\"\"I_sc = -I_L,   V_oc = V_T * log(1 + I_L / I_o)`\"\"\"\n",
    "\n",
    "def P_solar_cell(I_o, V, I_L, V_T=V_T_300): return V * (I_L - I_o * (exp(V / V_T) - 1))\n",
    "def V_max_P(V_oc, tol=None, V_T=V_T_300):\n",
    "    V_m_old = 0\n",
    "    V_m_new = 0\n",
    "    for i in range(2):\n",
    "        V_m_old = V_m_new\n",
    "        V_m_new = V_oc - V_T * log(1 + V_m_old / V_T)\n",
    "        if tol is not None and abs(V_m_new - V_m_old) / V_m_new > tol: break\n",
    "    return V_m_new\n",
    "def I_max_P(I_o, V_max_P, I_L, V_T=V_T_300): return (I_o + I_L) * V_max_P / (V_max_P + V_T)\n",
    "\n",
    "def fill_factor(V_m, I_m, V_oc, I_L): return V_m * I_m / (V_oc * I_L)\n",
    "def efficiency(V_m, I_m, P_in): return V_m * I_m / P_in\n",
    "def responsivity(eff, nu): return eff * q / (h * nu)  # = I_L / P_opt\n",
    "\n",
    "def cutoff_freq_LED(tau): return 1 / (2 * pi * tau)"
   ]
  },
  {
   "cell_type": "markdown",
   "metadata": {},
   "source": [
    "## 7: BJT"
   ]
  },
  {
   "cell_type": "code",
   "execution_count": 28,
   "metadata": {},
   "outputs": [],
   "source": [
    "\"\"\"Base recombination current:  I_BR = -(I_nE - I_nC)\"\"\"\n",
    "\"\"\"\n",
    "I_E = -(I_nE + I_pE)\n",
    "I_B = I_pC - I_pE + I_BR = I_pC - I_pE -(I_nE - I_nC)\n",
    "I_C = -(I_nC + I_pC)\n",
    "\"\"\"\n",
    "\"\"\"I_E = I_B + I_C\"\"\"\n",
    "\n",
    "\"\"\"I_CEO = I_C - I_nC:  leakage current flowing between collector and emitter with the base open circuited\"\"\"\n",
    "\"\"\"I_CBO = I_CEO / (1 + beta):  leakage current flowing between collector and base with the emitter open circuited\"\"\"\n",
    "\n",
    "def alpha_from_I_ratio(I_nC, I_E): return abs(I_nC / I_E)  # common base current gain (almost 1)\n",
    "def gamma_from_I_ratio(I_nE, I_E): return abs(I_nE / I_E)  # base transport factor = alpha / alpha_T\n",
    "def alpha_T_from_I_ratio(I_nC, I_nE): return abs(I_nC / I_nE)  # base transport factor = 1 / (1 + abs(I_BR/I_nC))\n",
    "def beta_from_I_ratio(I_nC, I_B): return abs(I_nC / I_B)  # common emitter current gain (very large)\n",
    "def beta_from_alpha(alpha): return alpha / (1 - alpha)\n",
    "def alpha_from_beta(beta): return beta / (1 + beta)"
   ]
  },
  {
   "cell_type": "code",
   "execution_count": 29,
   "metadata": {},
   "outputs": [],
   "source": [
    "\"\"\"Gummel number:  GN_E = N_DE * W_E,  GN_B = N_AB * W_B\"\"\"\n",
    "def gamma(D_pe, D_n, N_AB, N_DE, W_B, W_E):\n",
    "    \"W_E should be replaced with L for long diode\"\n",
    "    return 1 / (1 + D_pe * N_AB * W_B / (D_n * N_DE * W_E))\n",
    "\n",
    "\n",
    "\"\"\"N_AB << N_DE, W_B << W_E, W_B << L_n for validity of assumptions\"\"\"\n",
    "\n",
    "def alpha_T(W_B, L_n): return 1 / (1 + W_B**2 / (2 * L_n**2))  # common approximation\n",
    "\n",
    "def alpha_exact(D_pe, D_n, N_AB, N_DE, W_B, W_E, L_n):\n",
    "    \"W_E should be replaced with L for long diode, replace E with C for alpha_R\"\n",
    "    return 1 / ((1 + D_pe * N_AB * W_B / (D_n * N_DE * W_E)) * (1 + W_B**2 / (2 * L_n**2)))\n",
    "\n",
    "def alpha(D_pe, D_n, N_AB, N_DE, W_B, W_E, L_n):\n",
    "    \"W_E should be replaced with L for long diode, replace E with C for alpha_R\"\n",
    "    return 1 / (1 + D_pe * N_AB * W_B / (D_n * N_DE * W_E) + W_B**2 / (2 * L_n**2))  # common approximation\n",
    "\n",
    "def beta(D_pe, D_n, N_AB, N_DE, W_B, W_E, L_n):\n",
    "    \"W_E should be replaced with L for long diode\"\n",
    "    return 1 / (D_pe * N_AB * W_B / (D_n * N_DE * W_E) + W_B**2 / (2 * L_n**2))"
   ]
  },
  {
   "cell_type": "code",
   "execution_count": 30,
   "metadata": {},
   "outputs": [
    {
     "data": {
      "text/plain": [
       "'I_B = I_E - I_C = (1 - alpha_F) * I_F + (1 - alpha_R) * I_R'"
      ]
     },
     "execution_count": 30,
     "metadata": {},
     "output_type": "execute_result"
    }
   ],
   "source": [
    "def I_BR(A, n_pE_, W_B, tau_n): return A * q * n_pE_ * W_B / (2 * tau_n)  # = Q_nB / tau_n, approx = I_B\n",
    "\n",
    "def beta_from_tau(tau_n, tau_tB): return tau_n / tau_tB  # approximation, approx = I_C / I_B\n",
    "\n",
    "\"\"\"I_E = I_F - alpha_R * I_R,   I_C = alpha_F * I_F - I_R\"\"\"\n",
    "\"\"\"I_B = I_E - I_C = (1 - alpha_F) * I_F + (1 - alpha_R) * I_R\"\"\""
   ]
  },
  {
   "cell_type": "code",
   "execution_count": 31,
   "metadata": {},
   "outputs": [
    {
     "data": {
      "text/plain": [
       "'V_BE != 0,  V_BC = 0'"
      ]
     },
     "execution_count": 31,
     "metadata": {},
     "output_type": "execute_result"
    }
   ],
   "source": [
    "##### Forward Operation\n",
    "\n",
    "\"\"\"V_BE != 0,  V_BC = 0\"\"\"  \n",
    "#  =>  I_R = 0,  I_C = alpha_F * I_F,  I_E = I_F,  I_B = I_E - I_C = (1 - alpha_F) * I_F\n",
    "\n",
    "# beta_F = I_C / I_B\n",
    "# alpha_F = alpha_from_beta(beta_F)\n",
    "# I_C = I_S * (exp(V_BE / V_T) - 1)\n",
    "# I_S = I_o_from_n_i_approx(A, D_n, W_B, N_A)\n",
    "# I_pE = I_o_from_n_i_approx(A, D_p, W_E, N_DE) * (exp(V_BE / V_T) - 1)\n",
    "# I_B = I_pE + I_BR = A * q * n_i**2 * (D_p / (N_DE * W_E) + W_B / (2 * N_A * tau_n)) * (exp(V_BE / V_T) - 1)"
   ]
  },
  {
   "cell_type": "code",
   "execution_count": 32,
   "metadata": {},
   "outputs": [
    {
     "data": {
      "text/plain": [
       "'V_BE = 0,  V_BC != 0'"
      ]
     },
     "execution_count": 32,
     "metadata": {},
     "output_type": "execute_result"
    }
   ],
   "source": [
    "##### Reverse Operation\n",
    "\n",
    "\"\"\"V_BE = 0,  V_BC != 0\"\"\"\n",
    "#  =>  I_F = 0,  Q_E = Q_BF = 0\n",
    "\n",
    "# I_S = I_o_from_n_i_approx(A, D_n, W_B, N_A)\n",
    "# I_E = -I_S * (exp(V_BC / V_T) - 1) = -alpha_R * I_R\n",
    "# beta_R = beta_from_alpha(alpha_R)"
   ]
  },
  {
   "cell_type": "code",
   "execution_count": 33,
   "metadata": {},
   "outputs": [],
   "source": [
    "##### Case 3\n",
    "\n",
    "\"\"\"V_BC != 0,  V_BE != 0\"\"\"\n",
    "\n",
    "# I_C = alpha_F * I_F - I_R = I_S * (exp(V_BE / V_T) - 1) - I_S * (exp(V_BC / V_T) - 1) / alpha_R\n",
    "# I_C = I_S * (exp(V_BE / V_T) - exp(V_BC / V_T)) - I_S * (exp(V_BC / V_T) - 1) / beta_R\n",
    "\n",
    "# I_E = I_F - alpha_R * I_R = I_S * (exp(V_BE / V_T) - 1) / alpha_F - I_S * (exp(V_BC / V_T) - 1)\n",
    "# I_E = I_S * (exp(V_BE / V_T) - exp(V_BC / V_T)) + I_S * (exp(V_BE / V_T) - 1) / beta_F\n",
    "\n",
    "# I_B = I_E - I_C = I_S * (exp(V_BE / V_T) - 1) / beta_F + I_S * (exp(V_BC / V_T) - 1) / beta_R\n",
    "\n",
    "def I_C(I_S, V_BE, V_BC, beta_R, V_T=V_T_300):\n",
    "    return I_S * (exp(V_BE / V_T) - exp(V_BC / V_T)) - I_S * (exp(V_BC / V_T) - 1) / beta_R\n",
    "\n",
    "def I_E(I_S, V_BE, alpha_F, V_BC, V_T=V_T_300):\n",
    "    return I_S * (exp(V_BE / V_T) - 1) / alpha_F - I_S * (exp(V_BC / V_T) - 1)\n",
    "\n",
    "def I_B(I_S, V_BE, beta_F, V_BC, beta_R, V_T=V_T_300):\n",
    "    return I_S * (exp(V_BE / V_T) - 1) / beta_F + I_S * (exp(V_BC / V_T) - 1) / beta_R"
   ]
  },
  {
   "cell_type": "code",
   "execution_count": 34,
   "metadata": {},
   "outputs": [
    {
     "data": {
      "text/plain": [
       "'I_C = 0'"
      ]
     },
     "execution_count": 34,
     "metadata": {},
     "output_type": "execute_result"
    }
   ],
   "source": [
    "##### Floating Collector\n",
    "\n",
    "\"\"\"I_C = 0\"\"\"\n",
    "\n",
    "#! TODO: implement"
   ]
  },
  {
   "cell_type": "code",
   "execution_count": 35,
   "metadata": {},
   "outputs": [],
   "source": [
    "\"\"\"\n",
    "I_C = I_CT - I_BC / beta_R,  I_E = I_CT + I_CC / beta_F,  I_B = I_CC / beta_F + I_EC / beta_R\n",
    "I_CT = I_S * (exp(V_BE / V_T) - exp(V_BC / V_T))\n",
    "I_CC = I_S * (exp(V_BE / V_T) - 1)\n",
    "I_EC = I_S * (exp(V_BC / V_T) - 1)\n",
    "\"\"\";\n",
    "\n",
    "# I_C approx = I_S * exp(V_BE / V_T)\n",
    "# I_B approx = I_S * exp(V_BE / V_T) / beta_F"
   ]
  },
  {
   "cell_type": "code",
   "execution_count": 36,
   "metadata": {},
   "outputs": [
    {
     "data": {
      "text/plain": [
       "'Early voltage:  V_A = 1 / ((1 / W_B(0)) * dW_B/dV_CB)'"
      ]
     },
     "execution_count": 36,
     "metadata": {},
     "output_type": "execute_result"
    }
   ],
   "source": [
    "# g_cb approx = (I_C * W_B / L_n**2) * dW_B/dV_CB\n",
    "# g_ce approx = (2 * I_C / W_B) * dW_B/dV_CB\n",
    "\n",
    "\"\"\"Early voltage:  V_A = 1 / ((1 / W_B(0)) * dW_B/dV_CB)\"\"\"\n",
    "# dI_C/dV_CE = -dI_C/dV_BC = I_C / V_A\n",
    "\n",
    "# I_BE = I_BE(0) * (exp(V_BE / V_T) - 1)\n",
    "\n",
    "# g_m = I_CT / V_BE = I_CT / V_CE = I_C / V_T = beta * I_B / V_T  # transconductance"
   ]
  },
  {
   "cell_type": "code",
   "execution_count": 37,
   "metadata": {},
   "outputs": [
    {
     "data": {
      "text/plain": [
       "'When gamma = 1'"
      ]
     },
     "execution_count": 37,
     "metadata": {},
     "output_type": "execute_result"
    }
   ],
   "source": [
    "\"\"\"When gamma = 1\"\"\"\n",
    "\n",
    "# I_BR = Q_nB / tau_nB, I_nC = Q_nB / tau_tB\n",
    "# beta = 2 * L_n**2 / W_B"
   ]
  },
  {
   "cell_type": "code",
   "execution_count": 38,
   "metadata": {},
   "outputs": [
    {
     "data": {
      "text/plain": [
       "'When I_C = 0'"
      ]
     },
     "execution_count": 38,
     "metadata": {},
     "output_type": "execute_result"
    }
   ],
   "source": [
    "\"\"\"When I_C = 0\"\"\"\n",
    "\n",
    "# V_BC = V_T * log((1 + beta_R * exp(V_BE / V_T) / (1 + beta_R)))\n",
    "# V_CE approx = V_T * log(1 / alpha_R)"
   ]
  },
  {
   "cell_type": "code",
   "execution_count": 39,
   "metadata": {},
   "outputs": [],
   "source": [
    "def tau_F(W_E, N_DE, W_B, N_A, D_n): return N_A * W_B * W_E / (2 * N_DE * D_n) + W_B**2 / (2 * D_n)\n",
    "\n",
    "\"\"\"Diffusion capacitance: C_D\"\"\"\n",
    "def C_D_E(tau_F, I_CC, V_T=V_T_300): return tau_F * I_CC / V_T  # C_D of E-B junction\n",
    "def C_D_C(tau_R, I_EC, V_T=V_T_300): return tau_R * I_EC / V_T  # C_D of C-B junction\n",
    "\n",
    "\"\"\"Junction capacitance:  C_J\"\"\"\n",
    "def C_JE(C_JCO, V_BE, V_biE, m_E): return C_JCO * (1 - V_BE / V_biE)**-m_E  # C_J of E-B junction\n",
    "def C_JC(C_JEO, V_BC, V_biC, m_C): return C_JEO * (1 - V_BC / V_biC)**-m_C  # C_J of C-B junction\n",
    "\n",
    "def Q_nB(A, n_poB, V_BE, W_B, V_T=V_T_300): return (q * A / 2) * n_poB * (exp(V_BE / V_T) - 1) * W_B\n",
    "def Q_nB_from_at_t(t, I_FB, tau_n): return I_FB * tau_n * (1 - exp(-t / tau_n))\n",
    "def dQnB_dt(I_B, Q_nb, tau_n):\n",
    "    \"I_B = I_FB  or  I_B = -I_RB\"\n",
    "    return I_B - Q_nb / tau_n"
   ]
  },
  {
   "cell_type": "code",
   "execution_count": 40,
   "metadata": {},
   "outputs": [],
   "source": [
    "def t_on(tau_n, I_C_sat, beta, I_FB): return tau_n * log(1 / (1 - I_C_sat / (beta * I_FB)))\n",
    "def t_sd_BJT(tau_n, I_C_sat, beta, I_FB, I_RB): return tau_n * log((I_RB + I_FB) / (I_RB + I_C_sat / beta))\n",
    "def t_dis(tau_n, I_C_sat, beta, I_RB): return tau_n * log(1 + I_C_sat / (beta * I_RB))\n",
    "\n",
    "def t_off(tau_n, I_C_sat, beta, I_FB, I_RB):\n",
    "    return t_sd_BJT(tau_n, I_C_sat, beta, I_FB, I_RB) + t_dis(tau_n, I_C_sat, beta, I_RB)\n",
    "def t_delay(tau_n, I_C_sat, beta, I_FB, I_RB):  # sum of all\n",
    "    return t_on(tau_n, I_C_sat, beta, I_FB) + t_off(tau_n, I_C_sat, beta, I_FB, I_RB)"
   ]
  },
  {
   "cell_type": "code",
   "execution_count": 59,
   "metadata": {},
   "outputs": [
    {
     "data": {
      "text/plain": [
       "-6.931472e-07"
      ]
     },
     "execution_count": 59,
     "metadata": {},
     "output_type": "execute_result"
    }
   ],
   "source": [
    "t_off(1e-6, 2e-2, 40, 0.5, -1)"
   ]
  },
  {
   "cell_type": "markdown",
   "metadata": {},
   "source": [
    "## 8: MOSFET"
   ]
  },
  {
   "cell_type": "code",
   "execution_count": 41,
   "metadata": {},
   "outputs": [],
   "source": [
    "def phi_s(chi_s, Q_B, E_g=Si_E_g): return chi_s + E_g / (2 * q) + Q_B  # = chi_s + V_C - V_F\n",
    "\n",
    "def phi_B_p(N_D, n_i=Si_n_i, V_T=V_T_300): return V_T * log(N_D / n_i)\n",
    "def phi_B_n(N_A, n_i=Si_n_i, V_T=V_T_300): return V_T * log(N_A / n_i)\n",
    "\n",
    "def N_from_phi_B(phi_B, n_i=Si_n_i, V_T=V_T_300): return n_i * exp(phi_B / V_T)"
   ]
  },
  {
   "cell_type": "code",
   "execution_count": 42,
   "metadata": {},
   "outputs": [],
   "source": [
    "\"\"\"\n",
    "Ideal MOS diode:\n",
    "phi_m = phi_s  =>  phi_m_ = phi_s_,  Q_ox = 0  =>  Q_G + Q_s = 0, oxide infinitely resistive\n",
    "\"\"\"\n",
    "\n",
    "\"\"\"At zero bias (V_GB = 0)\"\"\"\n",
    "def phi_ms(phi_m, phi_s): return phi_m - phi_s\n",
    "def phi_m_(phi_m, chi_SiO2): return phi_m - chi_SiO2  # Metal oxide barrier energy\n",
    "def chi_s_(chi_s, chi_SiO2): return chi_s - chi_SiO2  # Silicon oxide barrier energy\n",
    "def phi_s_(phi_s, chi_SiO2): return phi_s - chi_SiO2\n",
    "\n",
    "def V_GB(psi_ox, psi_s): return psi_ox + psi_s  # E_fm - E_fs = q * V_GB"
   ]
  },
  {
   "cell_type": "code",
   "execution_count": 43,
   "metadata": {},
   "outputs": [],
   "source": [
    "def p_po_MOSFET(phi_B, V_T=V_T_300, n_i=Si_n_i): return n_i * exp(phi_B / V_T)\n",
    "def p_ps_MOSFET(phi_B, psi_s, V_T=V_T_300, n_i=Si_n_i):\n",
    "    \"p_ps = p_po * exp(-psi_s / V_T)\"\n",
    "    return n_i * exp((phi_B - psi_s) / V_T)\n",
    "\n",
    "def n_po_MOSFET(phi_B, V_T=V_T_300, n_i=Si_n_i): return n_i * exp(-phi_B / V_T)\n",
    "def n_ps_MOSFET(phi_B, psi_s, V_T=V_T_300, n_i=Si_n_i):\n",
    "    \"n_ps = n_po * exp(psi_s / V_T)\"\n",
    "    return n_i * exp((psi_s - phi_B) / V_T)"
   ]
  },
  {
   "cell_type": "code",
   "execution_count": 44,
   "metadata": {},
   "outputs": [],
   "source": [
    "def Q_s(N_A, phi_s, eps_s=Si_eps): return -sqrt(2 * q * N_A * eps_s * phi_s)  # -q * N_A * W\n",
    "\n",
    "\"\"\"Oxide capacitance per unit area: C_ox\"\"\"\n",
    "def C_ox(t_ox, eps_ox=SiO2_eps): return eps_ox / t_ox  # psi_ox = -Q_s / C_ox\n",
    "\n",
    "def W_max(phi_B, N_A, eps_s=Si_eps): return W(2 * phi_B, N_A, 0, eps_s)"
   ]
  },
  {
   "cell_type": "code",
   "execution_count": 45,
   "metadata": {},
   "outputs": [],
   "source": [
    "\"\"\"Zero bias threshold voltage:  V_th0,   Body effect parameter:  gamma,   Surface potential parameter: phi_B\"\"\"\n",
    "def V_th_from_V_th0(V_th0, gamma, phi_B, V_BS): return V_th0 + gamma * (sqrt(2 * phi_B - V_BS) - sqrt(2 * phi_B))\n",
    "\n",
    "def V_th_from_V_FB(V_FB, phi_B, N_A, C_ox, eps_s=Si_eps): return V_FB + 2 * phi_B + sqrt(2 * q * N_A * eps_s * 2 * phi_B) / C_ox\n",
    "\n",
    "\"\"\"V_GS - V_th < V_D  =>  Saturation\"\"\"\n",
    "def I_D_linear(mu_n_C_ox, W, L, V_GS, V_th, V_D): return mu_n_C_ox * (W / L) * ((V_GS - V_th) * V_D - V_D**2 / 2)\n",
    "def I_D_saturation(mu_n_C_ox, W, L, V_GS, V_th): return (1 / 2) *  mu_n_C_ox * (W / L) * (V_GS - V_th)**2\n",
    "\n",
    "def I_D(mu_n_C_ox, W, L, V_GS, V_th, V_D):\n",
    "    if V_D < V_GS - V_th: return I_D_linear(mu_n_C_ox, W, L, V_GS, V_th, V_D)\n",
    "    else: return I_D_saturation(mu_n_C_ox, W, L, V_GS, V_th)\n",
    "\n",
    "def V_th_p(phi_m, chi_s, phi_B_p, N_D, C_ox, E_g=Si_E_g, eps_s=Si_eps):\n",
    "    return phi_m - (chi_s + E_g / (2 * q) - phi_B_p) - 2 * phi_B_p - sqrt(2 * q * N_D * eps_s * 2 * phi_B_p) / C_ox\n",
    "def V_th_n(phi_m, chi_s, phi_B_n, N_A, C_ox, E_g=Si_E_g, eps_s=Si_eps):\n",
    "    return phi_m - (chi_s + E_g / (2 * q) + phi_B_n) - 2 * phi_B_n - sqrt(2 * q * N_A * eps_s * 2 * phi_B_n) / C_ox"
   ]
  },
  {
   "cell_type": "code",
   "execution_count": 46,
   "metadata": {},
   "outputs": [],
   "source": [
    "def phi_ms_n_plus(phi_B, E_g=Si_E_g): return -phi_B - E_g / (2 * q)\n",
    "def phi_ms_p_plus(phi_B, E_g=Si_E_g): return -phi_B + E_g / (2 * q)\n",
    "\n",
    "def phi_B_n_from_V_FB(V_FB, E_g=Si_E_g): return -V_FB - E_g / 2\n",
    "def phi_B_p_from_V_FB(V_FB, E_g=Si_E_g): return -V_FB + E_g / 2\n",
    "\n",
    "\"\"\"V_th > V_FB => p-type,  V_th < V_FB => n-type\"\"\"\n",
    "\n",
    "\"\"\"1/C = 1/C_ox + 1/C_s\"\"\"\n",
    "def C_s(eps_s, W_max): return eps_s / W_max\n",
    "def C_max(A, C_ox): return A * C_ox\n",
    "def C_min(A, C_ox, C_s): return A * C_ox * C_s / (C_ox + C_s)"
   ]
  },
  {
   "cell_type": "markdown",
   "metadata": {},
   "source": [
    "![Square Law](mosfet1.jpeg)\n",
    "![Steps](mosfet2.jpeg)"
   ]
  },
  {
   "cell_type": "markdown",
   "metadata": {},
   "source": [
    "# Previous Questions"
   ]
  },
  {
   "cell_type": "code",
   "execution_count": 47,
   "metadata": {},
   "outputs": [
    {
     "data": {
      "text/plain": [
       "-3.960000e+00"
      ]
     },
     "execution_count": 47,
     "metadata": {},
     "output_type": "execute_result"
    }
   ],
   "source": [
    "dn_dx = dn_dx_from_E(n_from_n_i(1.1, 1.1, 1e10), 2 * 1.1 / 12e-4)\n",
    "J_ndiff(D(1350), dn_dx) * 1e3"
   ]
  },
  {
   "cell_type": "code",
   "execution_count": 48,
   "metadata": {},
   "outputs": [
    {
     "data": {
      "text/plain": [
       "3.333333e+01"
      ]
     },
     "execution_count": 48,
     "metadata": {},
     "output_type": "execute_result"
    }
   ],
   "source": [
    "(1 - 0.99) * 0.4e-3 / (1 - 0.88) * 1e6"
   ]
  },
  {
   "cell_type": "code",
   "execution_count": 49,
   "metadata": {},
   "outputs": [
    {
     "data": {
      "text/plain": [
       "-4.190705e-01"
      ]
     },
     "execution_count": 49,
     "metadata": {},
     "output_type": "execute_result"
    }
   ],
   "source": [
    "-kT * log(1e17 / 1e10)"
   ]
  },
  {
   "cell_type": "code",
   "execution_count": 50,
   "metadata": {},
   "outputs": [
    {
     "data": {
      "text/plain": [
       "1.602800e-01"
      ]
     },
     "execution_count": 50,
     "metadata": {},
     "output_type": "execute_result"
    }
   ],
   "source": [
    "min = 1e10\n",
    "W = 0\n",
    "for i in range(1, 100000):\n",
    "    V = V_br(2e5, 1e15, i * 1e-8, 1e-12)\n",
    "    if abs(V - 30) < min:\n",
    "        min = abs(V - 30)\n",
    "        W = i * 1e-5\n",
    "W"
   ]
  },
  {
   "cell_type": "code",
   "execution_count": 51,
   "metadata": {},
   "outputs": [
    {
     "data": {
      "text/plain": [
       "3.925696e-03"
      ]
     },
     "execution_count": 51,
     "metadata": {},
     "output_type": "execute_result"
    }
   ],
   "source": [
    "I_D(5e-4, 10e-4, 1e-4, 2.5, V_th_from_V_th0(1, 0.5, 0.45, -1), 1)"
   ]
  },
  {
   "cell_type": "code",
   "execution_count": 52,
   "metadata": {},
   "outputs": [
    {
     "data": {
      "text/plain": [
       "9.950679e-03"
      ]
     },
     "execution_count": 52,
     "metadata": {},
     "output_type": "execute_result"
    }
   ],
   "source": [
    "I_C(1e-14, 0.72, 0.72 - 0.1, 0.5)"
   ]
  },
  {
   "cell_type": "code",
   "execution_count": 53,
   "metadata": {},
   "outputs": [
    {
     "data": {
      "text/plain": [
       "4.189500e+00"
      ]
     },
     "execution_count": 53,
     "metadata": {},
     "output_type": "execute_result"
    }
   ],
   "source": [
    "10e-3 * 2e3 * exp(-2e3 * 2e-4) / (2 * 1.6)"
   ]
  },
  {
   "cell_type": "code",
   "execution_count": 54,
   "metadata": {},
   "outputs": [
    {
     "data": {
      "text/plain": [
       "3.030303e+02"
      ]
     },
     "execution_count": 54,
     "metadata": {},
     "output_type": "execute_result"
    }
   ],
   "source": [
    "C_ox = 1e-12 / 3 / 10e-7 * 1e-2\n",
    "C_s = 1e-12 / 0.3e-4 * 1e-2\n",
    "C_ox * C_s / (C_ox + C_s) * 1e12"
   ]
  },
  {
   "cell_type": "code",
   "execution_count": 55,
   "metadata": {},
   "outputs": [
    {
     "data": {
      "text/plain": [
       "6.931472e-01"
      ]
     },
     "execution_count": 55,
     "metadata": {},
     "output_type": "execute_result"
    }
   ],
   "source": [
    "t_off(1e-6, 5e-3, beta_from_I_ratio(5e-3, 0.2e-3), 0.2e-3, 0.2e-3) * 1e6"
   ]
  },
  {
   "cell_type": "code",
   "execution_count": 56,
   "metadata": {},
   "outputs": [
    {
     "data": {
      "text/plain": [
       "1.986611e+01"
      ]
     },
     "execution_count": 56,
     "metadata": {},
     "output_type": "execute_result"
    }
   ],
   "source": [
    "efficiency(V_max_P(500e-3), I_max_P(50e-3 / (exp(500e-3 / V_T_300) - 1), V_max_P(500e-3), 50e-3), 100e-3) * 100"
   ]
  },
  {
   "cell_type": "code",
   "execution_count": 57,
   "metadata": {},
   "outputs": [
    {
     "data": {
      "text/plain": [
       "2.088244e+00"
      ]
     },
     "execution_count": 57,
     "metadata": {},
     "output_type": "execute_result"
    }
   ],
   "source": [
    "phi_B = phi_B_n_from_V_FB(-0.95)\n",
    "V_th_from_V_FB(-0.95, phi_B, N_from_phi_B(phi_B, 1e10), 400e-12 / 1e-2, 1e-12)"
   ]
  },
  {
   "cell_type": "markdown",
   "metadata": {},
   "source": [
    "# Questions"
   ]
  },
  {
   "cell_type": "code",
   "execution_count": null,
   "metadata": {},
   "outputs": [],
   "source": []
  }
 ],
 "metadata": {
  "interpreter": {
   "hash": "66ab396a5221eb3d038a920bab8157f456708ed3ee701bfbbf09949222aa5ebe"
  },
  "kernelspec": {
   "display_name": "Python 3.8.10 ('env': venv)",
   "language": "python",
   "name": "python3"
  },
  "language_info": {
   "codemirror_mode": {
    "name": "ipython",
    "version": 3
   },
   "file_extension": ".py",
   "mimetype": "text/x-python",
   "name": "python",
   "nbconvert_exporter": "python",
   "pygments_lexer": "ipython3",
   "version": "3.8.9"
  },
  "orig_nbformat": 4
 },
 "nbformat": 4,
 "nbformat_minor": 2
}
