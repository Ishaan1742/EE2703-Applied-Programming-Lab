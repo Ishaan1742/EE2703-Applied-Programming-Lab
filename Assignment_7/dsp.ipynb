{
 "cells": [
  {
   "cell_type": "code",
   "execution_count": 85,
   "metadata": {},
   "outputs": [],
   "source": [
    "import numpy as np\n",
    "import math\n"
   ]
  },
  {
   "cell_type": "code",
   "execution_count": 86,
   "metadata": {},
   "outputs": [
    {
     "data": {
      "text/plain": [
       "9.896047758429589"
      ]
     },
     "execution_count": 86,
     "metadata": {},
     "output_type": "execute_result"
    }
   ],
   "source": [
    "w = 0.54\n",
    "H = 1+complex(np.cos(w), -np.sin(w))+1.49*complex(np.cos(2*w), -np.sin(2*w))\n",
    "abs(H)**2\n"
   ]
  },
  {
   "cell_type": "code",
   "execution_count": 87,
   "metadata": {},
   "outputs": [
    {
     "name": "stdout",
     "output_type": "stream",
     "text": [
      "2.0018000000000002\n"
     ]
    }
   ],
   "source": [
    "w = np.arange(0.00001, np.pi, 0.00001)\n",
    "min = 1000000\n",
    "for i in w:\n",
    "    H = 1+complex(np.cos(i), -np.sin(i))+1.49*complex(np.cos(2*i), -np.sin(2*i))\n",
    "    if abs(H)**2 < min:\n",
    "        min = abs(H)**2\n",
    "        min_w = i\n",
    "print(min_w)"
   ]
  },
  {
   "cell_type": "code",
   "execution_count": 88,
   "metadata": {},
   "outputs": [
    {
     "data": {
      "text/plain": [
       "3.0473889803846896"
      ]
     },
     "execution_count": 88,
     "metadata": {},
     "output_type": "execute_result"
    }
   ],
   "source": [
    "\n",
    "w = 1.11\n",
    "H = (1-2*np.cos(0.89)*complex(np.cos(w), -np.sin(w))+complex(np.cos(2*w), -np.sin(2*w))) * (1-complex(np.cos(w), -np.sin(w)))\n",
    "np.angle(H)\n"
   ]
  },
  {
   "cell_type": "code",
   "execution_count": 89,
   "metadata": {},
   "outputs": [
    {
     "data": {
      "text/plain": [
       "0.3984349437320555"
      ]
     },
     "execution_count": 89,
     "metadata": {},
     "output_type": "execute_result"
    }
   ],
   "source": [
    "\n",
    "w = 2*2.77\n",
    "H = (1-2*np.cos(0.89)*complex(np.cos(w), -np.sin(w))+complex(np.cos(2*w), -np.sin(2*w))) * (1+complex(np.cos(w), -np.sin(w)))\n",
    "Gzp = H*complex(np.cos(3*w/2), np.sin(3*w/2))\n",
    "abs(Gzp)"
   ]
  },
  {
   "cell_type": "code",
   "execution_count": 90,
   "metadata": {},
   "outputs": [
    {
     "data": {
      "text/plain": [
       "0.10659750419638123"
      ]
     },
     "execution_count": 90,
     "metadata": {},
     "output_type": "execute_result"
    }
   ],
   "source": [
    "Ts = math.sqrt(1/(2*np.pi*0.79*0.79))\n",
    "np.exp(-(3.06*3.06)/(4*np.pi*Ts*Ts))/Ts"
   ]
  },
  {
   "cell_type": "code",
   "execution_count": 91,
   "metadata": {},
   "outputs": [
    {
     "data": {
      "text/plain": [
       "0.07740937465779042"
      ]
     },
     "execution_count": 91,
     "metadata": {},
     "output_type": "execute_result"
    }
   ],
   "source": [
    "Ts = math.sqrt(1/(2*np.pi*0.79*0.79))\n",
    "w = 3.06 - 2*np.pi*1\n",
    "np.exp(-(w*w)/(4*np.pi*Ts*Ts))/Ts"
   ]
  },
  {
   "cell_type": "code",
   "execution_count": 92,
   "metadata": {},
   "outputs": [
    {
     "name": "stdout",
     "output_type": "stream",
     "text": [
      "0j\n",
      "(32+0j)\n"
     ]
    }
   ],
   "source": [
    "import math\n",
    "import numpy as np\n",
    "\n",
    "W = np.zeros((8, 8), dtype = np.cdouble)\n",
    "\n",
    "for k in range(8):\n",
    "    for n in range(8):\n",
    "        W[n,k] = np.exp(-complex(0, 2*np.pi/8*n*k))\n",
    "for k in range(8):\n",
    "    for n in range(8):\n",
    "        if(abs(W[k,n]) < 1e-9):\n",
    "            W[k,n] = 0\n",
    "a, b = 10, 122\n",
    "W = W.dot(W)\n",
    "for k in range(8):\n",
    "    for n in range(8):\n",
    "        if(abs(W[k,n]) < 1e-9):\n",
    "            W[k,n] = 0\n",
    "# print(W)\n",
    "x = [4, a, 5, b, 2, 0, 0, 0]\n",
    "\n",
    "X = W.dot(x)\n",
    "print(X[1])\n",
    "print(X[0])\n",
    "# print(X)"
   ]
  },
  {
   "cell_type": "code",
   "execution_count": 93,
   "metadata": {},
   "outputs": [
    {
     "name": "stdout",
     "output_type": "stream",
     "text": [
      "0j\n",
      "(24+2.0574066225675536e-14j)\n"
     ]
    }
   ],
   "source": [
    "import math\n",
    "import numpy as np\n",
    "\n",
    "W = np.zeros((8, 8), dtype = np.cdouble)\n",
    "\n",
    "for k in range(8):\n",
    "    for n in range(8):\n",
    "        W[n,k] = np.exp(-complex(0, 2*np.pi/8*n*k))\n",
    "for k in range(8):\n",
    "    for n in range(8):\n",
    "        if(abs(W[k,n]) < 1e-9):\n",
    "            W[k,n] = 0\n",
    "a, b = 10, 122\n",
    "W = W.dot(W)\n",
    "for k in range(8):\n",
    "    for n in range(8):\n",
    "        if(abs(W[k,n]) < 1e-9):\n",
    "            W[k,n] = 0\n",
    "# print(W)\n",
    "x = [5, a, 3, b, 4, 0, 0, 0]\n",
    "\n",
    "X = W.dot(x)\n",
    "print(X[2])\n",
    "print(X[6])\n",
    "# print(X)"
   ]
  },
  {
   "cell_type": "code",
   "execution_count": null,
   "metadata": {},
   "outputs": [],
   "source": []
  }
 ],
 "metadata": {
  "interpreter": {
   "hash": "0f2a686ff5a5496e20c424bfb957a50d291a2b104b5145958a03facc20ae037c"
  },
  "kernelspec": {
   "display_name": "Python 3.8.9 ('venv': venv)",
   "language": "python",
   "name": "python3"
  },
  "language_info": {
   "codemirror_mode": {
    "name": "ipython",
    "version": 3
   },
   "file_extension": ".py",
   "mimetype": "text/x-python",
   "name": "python",
   "nbconvert_exporter": "python",
   "pygments_lexer": "ipython3",
   "version": "3.8.9"
  },
  "orig_nbformat": 4
 },
 "nbformat": 4,
 "nbformat_minor": 2
}
