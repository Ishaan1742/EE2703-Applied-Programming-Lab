{
 "cells": [
  {
   "cell_type": "code",
   "execution_count": 10,
   "metadata": {},
   "outputs": [
    {
     "data": {
      "text/plain": [
       "285.7142857142857"
      ]
     },
     "execution_count": 10,
     "metadata": {},
     "output_type": "execute_result"
    }
   ],
   "source": [
    "import math\n",
    "dpe = 2\n",
    "dnb = 20\n",
    "nab = 10**17\n",
    "nde = 10**19\n",
    "wb = 10**-4\n",
    "we = 10**-4\n",
    "tnb = 0.1*10**-6\n",
    "\n",
    "lnb = math.sqrt(dnb*tnb)\n",
    "\n",
    "beta = 1/((dpe*nab*wb)/(dnb*nde*we)+wb**2/(2*lnb**2))\n",
    "beta"
   ]
  },
  {
   "cell_type": "code",
   "execution_count": null,
   "metadata": {},
   "outputs": [],
   "source": []
  }
 ],
 "metadata": {
  "interpreter": {
   "hash": "0f2a686ff5a5496e20c424bfb957a50d291a2b104b5145958a03facc20ae037c"
  },
  "kernelspec": {
   "display_name": "Python 3.8.9 ('venv': venv)",
   "language": "python",
   "name": "python3"
  },
  "language_info": {
   "codemirror_mode": {
    "name": "ipython",
    "version": 3
   },
   "file_extension": ".py",
   "mimetype": "text/x-python",
   "name": "python",
   "nbconvert_exporter": "python",
   "pygments_lexer": "ipython3",
   "version": "3.8.9"
  },
  "orig_nbformat": 4
 },
 "nbformat": 4,
 "nbformat_minor": 2
}
