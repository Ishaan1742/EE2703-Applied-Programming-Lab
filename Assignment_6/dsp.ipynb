{
 "cells": [
  {
   "cell_type": "code",
   "execution_count": 172,
   "metadata": {},
   "outputs": [],
   "source": [
    "import numpy as np\n",
    "import scipy.signal as sp\n",
    "import sympy as sym\n",
    "import matplotlib.pyplot as plt"
   ]
  },
  {
   "cell_type": "code",
   "execution_count": 192,
   "metadata": {},
   "outputs": [],
   "source": [
    "num = [1.36, -1]\n",
    "den = [1, -1.73, 0.747]"
   ]
  },
  {
   "cell_type": "code",
   "execution_count": 193,
   "metadata": {},
   "outputs": [
    {
     "data": {
      "text/plain": [
       "array([0.73529412])"
      ]
     },
     "execution_count": 193,
     "metadata": {},
     "output_type": "execute_result"
    }
   ],
   "source": [
    "zeroes = np.roots(num)\n",
    "zeroes"
   ]
  },
  {
   "cell_type": "code",
   "execution_count": 194,
   "metadata": {},
   "outputs": [
    {
     "data": {
      "text/plain": [
       "array([0.9 , 0.83])"
      ]
     },
     "execution_count": 194,
     "metadata": {},
     "output_type": "execute_result"
    }
   ],
   "source": [
    "poles = np.roots(den)\n",
    "poles"
   ]
  },
  {
   "cell_type": "code",
   "execution_count": 195,
   "metadata": {},
   "outputs": [],
   "source": [
    "r = sp.residuez(num, den)[0]\n",
    "p = sp.residuez(num, den)[1]\n",
    "k = sp.residuez(num, den)[2]"
   ]
  },
  {
   "cell_type": "code",
   "execution_count": 196,
   "metadata": {},
   "outputs": [
    {
     "data": {
      "text/plain": [
       "array([-1.84,  3.2 ])"
      ]
     },
     "execution_count": 196,
     "metadata": {},
     "output_type": "execute_result"
    }
   ],
   "source": [
    "r"
   ]
  },
  {
   "cell_type": "code",
   "execution_count": 197,
   "metadata": {},
   "outputs": [
    {
     "data": {
      "text/plain": [
       "array([0.83, 0.9 ])"
      ]
     },
     "execution_count": 197,
     "metadata": {},
     "output_type": "execute_result"
    }
   ],
   "source": [
    "p"
   ]
  },
  {
   "cell_type": "code",
   "execution_count": 198,
   "metadata": {},
   "outputs": [
    {
     "data": {
      "text/plain": [
       "array([], dtype=float64)"
      ]
     },
     "execution_count": 198,
     "metadata": {},
     "output_type": "execute_result"
    }
   ],
   "source": [
    "k"
   ]
  },
  {
   "cell_type": "code",
   "execution_count": 180,
   "metadata": {},
   "outputs": [
    {
     "data": {
      "image/png": "[encoded data removed]",
      "text/plain": [
       "<Figure size 432x288 with 1 Axes>"
      ]
     },
     "metadata": {
      "needs_background": "light"
     },
     "output_type": "display_data"
    }
   ],
   "source": [
    "H = sp.lti(num, den)\n",
    "#plotting Bode magnitude plot\n",
    "w, mag, phase = sp.bode(H)\n",
    "plt.semilogx(w, mag)\n",
    "plt.xlabel('Frequency')\n",
    "plt.ylabel('Magnitude')\n",
    "plt.title('Magnitude Plot of H(s)')\n",
    "plt.grid()\n",
    "plt.show()"
   ]
  },
  {
   "cell_type": "code",
   "execution_count": 181,
   "metadata": {},
   "outputs": [
    {
     "data": {
      "image/png": "[encoded data removed]",
      "text/plain": [
       "<Figure size 432x288 with 1 Axes>"
      ]
     },
     "metadata": {
      "needs_background": "light"
     },
     "output_type": "display_data"
    }
   ],
   "source": [
    "# complex(np.cos(w)+np.sin(w))\n",
    "omega_list = [x for x in np.linspace(0,np.pi, 100)]\n",
    "complex_H1 = []\n",
    "complex_H2 = []\n",
    "for omega in omega_list:\n",
    "    H1 = (1*(1+complex(np.cos(-omega)+np.sin(-omega))))/(1-0.9*complex(np.cos(-omega)+np.sin(-omega)))  # better lpf filter\n",
    "    H2 = (1*(1-complex(np.cos(-omega)+np.sin(-omega))))/(1+0.9*complex(np.cos(-omega)+np.sin(-omega)))  # better lpf filter\n",
    "    complex_H1.append(np.abs(H1))\n",
    "    complex_H2.append(np.abs(H2))\n",
    "plt.plot(w, complex_H1, label='lpf')\n",
    "plt.plot(w, complex_H2, label='hpf')\n",
    "plt.legend()\n",
    "plt.show()"
   ]
  },
  {
   "cell_type": "code",
   "execution_count": 209,
   "metadata": {},
   "outputs": [
    {
     "data": {
      "text/plain": [
       "1.2262868936000002"
      ]
     },
     "execution_count": 209,
     "metadata": {},
     "output_type": "execute_result"
    }
   ],
   "source": [
    "#x(n) = 0.9^n for n>=0\n",
    "#define function x\n",
    "def x(n):\n",
    "    if n >= 0:\n",
    "        return 0.9**n\n",
    "    else:\n",
    "        return 0\n",
    "#y(n) = 0.83y(n-1) + 1.36x(n) - x(n-1)\n",
    "#define function y\n",
    "def y(n):\n",
    "    if n == 0:\n",
    "        return 1.36*x(n)\n",
    "    else:\n",
    "        return 0.83*y(n-1) + 1.36*x(n) - x(n-1)\n",
    "y(4)"
   ]
  }
 ],
 "metadata": {
  "interpreter": {
   "hash": "4a1b1170ccd13d6aadbf20d6593180e6c823eb9a356adf7691741d12286b4cc8"
  },
  "kernelspec": {
   "display_name": "Python 3.8.9 ('venv': venv)",
   "language": "python",
   "name": "python3"
  },
  "language_info": {
   "codemirror_mode": {
    "name": "ipython",
    "version": 3
   },
   "file_extension": ".py",
   "mimetype": "text/x-python",
   "name": "python",
   "nbconvert_exporter": "python",
   "pygments_lexer": "ipython3",
   "version": "3.8.9"
  },
  "orig_nbformat": 4
 },
 "nbformat": 4,
 "nbformat_minor": 2
}
